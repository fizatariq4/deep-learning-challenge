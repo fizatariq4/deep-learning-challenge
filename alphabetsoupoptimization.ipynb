{
  "cells": [
    {
      "cell_type": "code",
      "execution_count": 1,
      "metadata": {
        "colab": {
          "base_uri": "https://localhost:8080/",
          "height": 439
        },
        "id": "J4OugQg1y8D2",
        "outputId": "172f6e2e-6ae4-4cce-953b-31edcbdfa482"
      },
      "outputs": [
        {
          "data": {
            "text/html": [
              "<div>\n",
              "<style scoped>\n",
              "    .dataframe tbody tr th:only-of-type {\n",
              "        vertical-align: middle;\n",
              "    }\n",
              "\n",
              "    .dataframe tbody tr th {\n",
              "        vertical-align: top;\n",
              "    }\n",
              "\n",
              "    .dataframe thead th {\n",
              "        text-align: right;\n",
              "    }\n",
              "</style>\n",
              "<table border=\"1\" class=\"dataframe\">\n",
              "  <thead>\n",
              "    <tr style=\"text-align: right;\">\n",
              "      <th></th>\n",
              "      <th>EIN</th>\n",
              "      <th>NAME</th>\n",
              "      <th>APPLICATION_TYPE</th>\n",
              "      <th>AFFILIATION</th>\n",
              "      <th>CLASSIFICATION</th>\n",
              "      <th>USE_CASE</th>\n",
              "      <th>ORGANIZATION</th>\n",
              "      <th>STATUS</th>\n",
              "      <th>INCOME_AMT</th>\n",
              "      <th>SPECIAL_CONSIDERATIONS</th>\n",
              "      <th>ASK_AMT</th>\n",
              "      <th>IS_SUCCESSFUL</th>\n",
              "    </tr>\n",
              "  </thead>\n",
              "  <tbody>\n",
              "    <tr>\n",
              "      <th>0</th>\n",
              "      <td>10520599</td>\n",
              "      <td>BLUE KNIGHTS MOTORCYCLE CLUB</td>\n",
              "      <td>T10</td>\n",
              "      <td>Independent</td>\n",
              "      <td>C1000</td>\n",
              "      <td>ProductDev</td>\n",
              "      <td>Association</td>\n",
              "      <td>1</td>\n",
              "      <td>0</td>\n",
              "      <td>N</td>\n",
              "      <td>5000</td>\n",
              "      <td>1</td>\n",
              "    </tr>\n",
              "    <tr>\n",
              "      <th>1</th>\n",
              "      <td>10531628</td>\n",
              "      <td>AMERICAN CHESAPEAKE CLUB CHARITABLE TR</td>\n",
              "      <td>T3</td>\n",
              "      <td>Independent</td>\n",
              "      <td>C2000</td>\n",
              "      <td>Preservation</td>\n",
              "      <td>Co-operative</td>\n",
              "      <td>1</td>\n",
              "      <td>1-9999</td>\n",
              "      <td>N</td>\n",
              "      <td>108590</td>\n",
              "      <td>1</td>\n",
              "    </tr>\n",
              "    <tr>\n",
              "      <th>2</th>\n",
              "      <td>10547893</td>\n",
              "      <td>ST CLOUD PROFESSIONAL FIREFIGHTERS</td>\n",
              "      <td>T5</td>\n",
              "      <td>CompanySponsored</td>\n",
              "      <td>C3000</td>\n",
              "      <td>ProductDev</td>\n",
              "      <td>Association</td>\n",
              "      <td>1</td>\n",
              "      <td>0</td>\n",
              "      <td>N</td>\n",
              "      <td>5000</td>\n",
              "      <td>0</td>\n",
              "    </tr>\n",
              "    <tr>\n",
              "      <th>3</th>\n",
              "      <td>10553066</td>\n",
              "      <td>SOUTHSIDE ATHLETIC ASSOCIATION</td>\n",
              "      <td>T3</td>\n",
              "      <td>CompanySponsored</td>\n",
              "      <td>C2000</td>\n",
              "      <td>Preservation</td>\n",
              "      <td>Trust</td>\n",
              "      <td>1</td>\n",
              "      <td>10000-24999</td>\n",
              "      <td>N</td>\n",
              "      <td>6692</td>\n",
              "      <td>1</td>\n",
              "    </tr>\n",
              "    <tr>\n",
              "      <th>4</th>\n",
              "      <td>10556103</td>\n",
              "      <td>GENETIC RESEARCH INSTITUTE OF THE DESERT</td>\n",
              "      <td>T3</td>\n",
              "      <td>Independent</td>\n",
              "      <td>C1000</td>\n",
              "      <td>Heathcare</td>\n",
              "      <td>Trust</td>\n",
              "      <td>1</td>\n",
              "      <td>100000-499999</td>\n",
              "      <td>N</td>\n",
              "      <td>142590</td>\n",
              "      <td>1</td>\n",
              "    </tr>\n",
              "  </tbody>\n",
              "</table>\n",
              "</div>"
            ],
            "text/plain": [
              "        EIN                                      NAME APPLICATION_TYPE  \\\n",
              "0  10520599              BLUE KNIGHTS MOTORCYCLE CLUB              T10   \n",
              "1  10531628    AMERICAN CHESAPEAKE CLUB CHARITABLE TR               T3   \n",
              "2  10547893        ST CLOUD PROFESSIONAL FIREFIGHTERS               T5   \n",
              "3  10553066            SOUTHSIDE ATHLETIC ASSOCIATION               T3   \n",
              "4  10556103  GENETIC RESEARCH INSTITUTE OF THE DESERT               T3   \n",
              "\n",
              "        AFFILIATION CLASSIFICATION      USE_CASE  ORGANIZATION  STATUS  \\\n",
              "0       Independent          C1000    ProductDev   Association       1   \n",
              "1       Independent          C2000  Preservation  Co-operative       1   \n",
              "2  CompanySponsored          C3000    ProductDev   Association       1   \n",
              "3  CompanySponsored          C2000  Preservation         Trust       1   \n",
              "4       Independent          C1000     Heathcare         Trust       1   \n",
              "\n",
              "      INCOME_AMT SPECIAL_CONSIDERATIONS  ASK_AMT  IS_SUCCESSFUL  \n",
              "0              0                      N     5000              1  \n",
              "1         1-9999                      N   108590              1  \n",
              "2              0                      N     5000              0  \n",
              "3    10000-24999                      N     6692              1  \n",
              "4  100000-499999                      N   142590              1  "
            ]
          },
          "execution_count": 1,
          "metadata": {},
          "output_type": "execute_result"
        }
      ],
      "source": [
        "from sklearn.model_selection import train_test_split\n",
        "from sklearn.preprocessing import StandardScaler\n",
        "import pandas as pd\n",
        "import tensorflow as tf\n",
        "\n",
        "import pandas as pd \n",
        "application_df = pd.read_csv(\"https://static.bc-edx.com/data/dl-1-2/m21/lms/starter/charity_data.csv\")\n",
        "application_df.head()\n"
      ]
    },
    {
      "cell_type": "code",
      "execution_count": 2,
      "metadata": {},
      "outputs": [
        {
          "data": {
            "text/plain": [
              "NAME                      19568\n",
              "APPLICATION_TYPE             17\n",
              "AFFILIATION                   6\n",
              "CLASSIFICATION               71\n",
              "USE_CASE                      5\n",
              "ORGANIZATION                  4\n",
              "STATUS                        2\n",
              "INCOME_AMT                    9\n",
              "SPECIAL_CONSIDERATIONS        2\n",
              "ASK_AMT                    8747\n",
              "IS_SUCCESSFUL                 2\n",
              "dtype: int64"
            ]
          },
          "execution_count": 2,
          "metadata": {},
          "output_type": "execute_result"
        }
      ],
      "source": [
        "application_df = application_df.drop(['EIN'], axis=1)\n",
        "application_df.nunique()"
      ]
    },
    {
      "cell_type": "code",
      "execution_count": 3,
      "metadata": {},
      "outputs": [
        {
          "data": {
            "text/plain": [
              "PARENT BOOSTER USA INC                             1260\n",
              "TOPS CLUB INC                                       765\n",
              "UNITED STATES BOWLING CONGRESS INC                  700\n",
              "WASHINGTON STATE UNIVERSITY                         492\n",
              "AMATEUR ATHLETIC UNION OF THE UNITED STATES INC     408\n",
              "                                                   ... \n",
              "OLD OAK CLIFF CONSERVATION LEAGUE INC                 6\n",
              "AMERICAN NEPHROLOGY NURSES ASSOCIATION                6\n",
              "HUMBLE ISD EDUCATIONAL SUPPORT GROUPS INC             6\n",
              "PROFESSIONAL LOADMASTER ASSOCIATION                   6\n",
              "CBMC INC                                              6\n",
              "Name: NAME, Length: 354, dtype: int64"
            ]
          },
          "execution_count": 3,
          "metadata": {},
          "output_type": "execute_result"
        }
      ],
      "source": [
        "name = application_df['NAME'].value_counts()\n",
        "name[name>5]"
      ]
    },
    {
      "cell_type": "code",
      "execution_count": 4,
      "metadata": {},
      "outputs": [
        {
          "data": {
            "text/plain": [
              "Other                                           20043\n",
              "PARENT BOOSTER USA INC                           1260\n",
              "TOPS CLUB INC                                     765\n",
              "UNITED STATES BOWLING CONGRESS INC                700\n",
              "WASHINGTON STATE UNIVERSITY                       492\n",
              "                                                ...  \n",
              "HABITAT FOR HUMANITY INTERNATIONAL                  6\n",
              "DAMAGE PREVENTION COUNCIL OF TEXAS                  6\n",
              "FLEET RESERVE ASSOCIATION                           6\n",
              "HUGH OBRIAN YOUTH LEADERSHIP                        6\n",
              "INTERNATIONAL CONGRESS OF CHURCHES MINISTERS        6\n",
              "Name: NAME, Length: 355, dtype: int64"
            ]
          },
          "execution_count": 4,
          "metadata": {},
          "output_type": "execute_result"
        }
      ],
      "source": [
        "replace_name = list(name[name<=5].index)\n",
        "for app in replace_name:\n",
        "    application_df['NAME'] = application_df['NAME'].replace(app, \"Other\")\n",
        "application_df['NAME'].value_counts()"
      ]
    },
    {
      "cell_type": "code",
      "execution_count": 5,
      "metadata": {},
      "outputs": [
        {
          "name": "stdout",
          "output_type": "stream",
          "text": [
            "   APPLICATION_TYPE  counts\n",
            "0               T10     528\n",
            "1               T12      27\n",
            "2               T13      66\n",
            "3               T14       3\n",
            "4               T15       2\n",
            "5               T17       1\n",
            "6               T19    1065\n",
            "7                T2      16\n",
            "8               T25       3\n",
            "9               T29       2\n",
            "10               T3   27037\n",
            "11               T4    1542\n",
            "12               T5    1173\n",
            "13               T6    1216\n",
            "14               T7     725\n",
            "15               T8     737\n",
            "16               T9     156\n"
          ]
        }
      ],
      "source": [
        "application_type_counts = application_df.groupby('APPLICATION_TYPE').size().reset_index(name='counts')\n",
        "print(application_type_counts)"
      ]
    },
    {
      "cell_type": "code",
      "execution_count": 6,
      "metadata": {},
      "outputs": [
        {
          "data": {
            "text/plain": [
              "['NAME',\n",
              " 'APPLICATION_TYPE',\n",
              " 'AFFILIATION',\n",
              " 'CLASSIFICATION',\n",
              " 'USE_CASE',\n",
              " 'ORGANIZATION',\n",
              " 'INCOME_AMT',\n",
              " 'SPECIAL_CONSIDERATIONS']"
            ]
          },
          "execution_count": 6,
          "metadata": {},
          "output_type": "execute_result"
        }
      ],
      "source": [
        "categorical_columns = application_df.select_dtypes(include=['object']).columns.tolist()\n",
        "categorical_columns"
      ]
    },
    {
      "cell_type": "code",
      "execution_count": 7,
      "metadata": {},
      "outputs": [],
      "source": [
        "categorical_dummies_df = pd.get_dummies(application_df)\n"
      ]
    },
    {
      "cell_type": "code",
      "execution_count": 10,
      "metadata": {},
      "outputs": [],
      "source": [
        "X = categorical_dummies_df.drop('IS_SUCCESSFUL', axis= 1)\n",
        "y = categorical_dummies_df['IS_SUCCESSFUL']\n",
        "\n",
        "X_train, X_test, y_train, y_test = train_test_split(X, y, test_size=0.2, random_state=42)\n"
      ]
    },
    {
      "cell_type": "code",
      "execution_count": 11,
      "metadata": {},
      "outputs": [],
      "source": [
        "scaler = StandardScaler()\n",
        "\n",
        "# Fit the StandardScaler\n",
        "X_scaler = scaler.fit(X_train)\n",
        "\n",
        "# Scale the data\n",
        "X_train_scaled = X_scaler.transform(X_train)\n",
        "X_test_scaled = X_scaler.transform(X_test)"
      ]
    },
    {
      "cell_type": "code",
      "execution_count": 12,
      "metadata": {},
      "outputs": [
        {
          "name": "stdout",
          "output_type": "stream",
          "text": [
            "Model: \"sequential\"\n",
            "_________________________________________________________________\n",
            " Layer (type)                Output Shape              Param #   \n",
            "=================================================================\n",
            " dense (Dense)               (None, 8)                 3776      \n",
            "                                                                 \n",
            " dense_1 (Dense)             (None, 4)                 36        \n",
            "                                                                 \n",
            " dense_2 (Dense)             (None, 1)                 5         \n",
            "                                                                 \n",
            "=================================================================\n",
            "Total params: 3817 (14.91 KB)\n",
            "Trainable params: 3817 (14.91 KB)\n",
            "Non-trainable params: 0 (0.00 Byte)\n",
            "_________________________________________________________________\n"
          ]
        }
      ],
      "source": [
        "input_features = len(X_train_scaled[0])\n",
        "nn = tf.keras.models.Sequential()\n",
        "\n",
        "# First hidden layer\n",
        "\n",
        "nn.add(tf.keras.layers.Dense(units=8, activation='relu', input_dim=input_features))\n",
        "# Second hidden layer\n",
        "\n",
        "nn.add(tf.keras.layers.Dense(units=4, activation='relu'))\n",
        "# Output layer\n",
        "\n",
        "nn.add(tf.keras.layers.Dense(units=1, activation='sigmoid'))\n",
        "\n",
        "nn.summary()"
      ]
    },
    {
      "cell_type": "code",
      "execution_count": 13,
      "metadata": {},
      "outputs": [],
      "source": [
        "nn.compile(loss=\"binary_crossentropy\", optimizer=\"adam\", metrics=[\"accuracy\"])"
      ]
    },
    {
      "cell_type": "code",
      "execution_count": 14,
      "metadata": {},
      "outputs": [
        {
          "name": "stdout",
          "output_type": "stream",
          "text": [
            "Epoch 1/100\n",
            "858/858 [==============================] - 2s 2ms/step - loss: 0.5418 - accuracy: 0.7452\n",
            "Epoch 2/100\n",
            "858/858 [==============================] - 1s 1ms/step - loss: 0.4539 - accuracy: 0.7825\n",
            "Epoch 3/100\n",
            "858/858 [==============================] - 1s 1ms/step - loss: 0.4420 - accuracy: 0.7871\n",
            "Epoch 4/100\n",
            "858/858 [==============================] - 1s 1ms/step - loss: 0.4373 - accuracy: 0.7918\n",
            "Epoch 5/100\n",
            "858/858 [==============================] - 1s 1ms/step - loss: 0.4341 - accuracy: 0.7918\n",
            "Epoch 6/100\n",
            "858/858 [==============================] - 1s 1ms/step - loss: 0.4284 - accuracy: 0.7934\n",
            "Epoch 7/100\n",
            "858/858 [==============================] - 1s 1ms/step - loss: 0.4270 - accuracy: 0.7933\n",
            "Epoch 8/100\n",
            "858/858 [==============================] - 1s 1ms/step - loss: 0.4257 - accuracy: 0.7946\n",
            "Epoch 9/100\n",
            "858/858 [==============================] - 1s 1ms/step - loss: 0.4248 - accuracy: 0.7941\n",
            "Epoch 10/100\n",
            "858/858 [==============================] - 1s 1ms/step - loss: 0.4235 - accuracy: 0.7947\n",
            "Epoch 11/100\n",
            "858/858 [==============================] - 1s 1ms/step - loss: 0.4233 - accuracy: 0.7946\n",
            "Epoch 12/100\n",
            "858/858 [==============================] - 1s 1ms/step - loss: 0.4229 - accuracy: 0.7956\n",
            "Epoch 13/100\n",
            "858/858 [==============================] - 1s 1ms/step - loss: 0.4224 - accuracy: 0.7948\n",
            "Epoch 14/100\n",
            "858/858 [==============================] - 1s 1ms/step - loss: 0.4223 - accuracy: 0.7955\n",
            "Epoch 15/100\n",
            "858/858 [==============================] - 1s 1ms/step - loss: 0.4218 - accuracy: 0.7960\n",
            "Epoch 16/100\n",
            "858/858 [==============================] - 1s 1ms/step - loss: 0.4215 - accuracy: 0.7950\n",
            "Epoch 17/100\n",
            "858/858 [==============================] - 1s 1ms/step - loss: 0.4211 - accuracy: 0.7960\n",
            "Epoch 18/100\n",
            "858/858 [==============================] - 1s 1ms/step - loss: 0.4206 - accuracy: 0.7960\n",
            "Epoch 19/100\n",
            "858/858 [==============================] - 1s 1ms/step - loss: 0.4208 - accuracy: 0.7969\n",
            "Epoch 20/100\n",
            "858/858 [==============================] - 1s 1ms/step - loss: 0.4203 - accuracy: 0.7966\n",
            "Epoch 21/100\n",
            "858/858 [==============================] - 1s 1ms/step - loss: 0.4201 - accuracy: 0.7963\n",
            "Epoch 22/100\n",
            "858/858 [==============================] - 1s 1ms/step - loss: 0.4197 - accuracy: 0.7962\n",
            "Epoch 23/100\n",
            "858/858 [==============================] - 1s 1ms/step - loss: 0.4191 - accuracy: 0.7969\n",
            "Epoch 24/100\n",
            "858/858 [==============================] - 1s 1ms/step - loss: 0.4191 - accuracy: 0.7967\n",
            "Epoch 25/100\n",
            "858/858 [==============================] - 1s 1ms/step - loss: 0.4188 - accuracy: 0.7983\n",
            "Epoch 26/100\n",
            "858/858 [==============================] - 1s 1ms/step - loss: 0.4183 - accuracy: 0.7971\n",
            "Epoch 27/100\n",
            "858/858 [==============================] - 1s 1ms/step - loss: 0.4185 - accuracy: 0.7973\n",
            "Epoch 28/100\n",
            "858/858 [==============================] - 1s 1ms/step - loss: 0.4181 - accuracy: 0.7982\n",
            "Epoch 29/100\n",
            "858/858 [==============================] - 1s 1ms/step - loss: 0.4181 - accuracy: 0.7972\n",
            "Epoch 30/100\n",
            "858/858 [==============================] - 1s 1ms/step - loss: 0.4176 - accuracy: 0.7981\n",
            "Epoch 31/100\n",
            "858/858 [==============================] - 1s 1ms/step - loss: 0.4173 - accuracy: 0.7982\n",
            "Epoch 32/100\n",
            "858/858 [==============================] - 1s 1ms/step - loss: 0.4175 - accuracy: 0.7977\n",
            "Epoch 33/100\n",
            "858/858 [==============================] - 1s 998us/step - loss: 0.4174 - accuracy: 0.7986\n",
            "Epoch 34/100\n",
            "858/858 [==============================] - 1s 1ms/step - loss: 0.4168 - accuracy: 0.7982\n",
            "Epoch 35/100\n",
            "858/858 [==============================] - 1s 1ms/step - loss: 0.4165 - accuracy: 0.7989\n",
            "Epoch 36/100\n",
            "858/858 [==============================] - 1s 1ms/step - loss: 0.4162 - accuracy: 0.7983\n",
            "Epoch 37/100\n",
            "858/858 [==============================] - 1s 1ms/step - loss: 0.4159 - accuracy: 0.7980\n",
            "Epoch 38/100\n",
            "858/858 [==============================] - 1s 1ms/step - loss: 0.4159 - accuracy: 0.7980\n",
            "Epoch 39/100\n",
            "858/858 [==============================] - 1s 1ms/step - loss: 0.4157 - accuracy: 0.7992\n",
            "Epoch 40/100\n",
            "858/858 [==============================] - 1s 989us/step - loss: 0.4156 - accuracy: 0.7980\n",
            "Epoch 41/100\n",
            "858/858 [==============================] - 1s 1ms/step - loss: 0.4155 - accuracy: 0.7996\n",
            "Epoch 42/100\n",
            "858/858 [==============================] - 1s 1ms/step - loss: 0.4154 - accuracy: 0.7992\n",
            "Epoch 43/100\n",
            "858/858 [==============================] - 1s 1ms/step - loss: 0.4150 - accuracy: 0.7993\n",
            "Epoch 44/100\n",
            "858/858 [==============================] - 1s 1ms/step - loss: 0.4146 - accuracy: 0.7987\n",
            "Epoch 45/100\n",
            "858/858 [==============================] - 1s 1ms/step - loss: 0.4144 - accuracy: 0.7989\n",
            "Epoch 46/100\n",
            "858/858 [==============================] - 1s 1ms/step - loss: 0.4144 - accuracy: 0.7990\n",
            "Epoch 47/100\n",
            "858/858 [==============================] - 1s 1ms/step - loss: 0.4140 - accuracy: 0.7980\n",
            "Epoch 48/100\n",
            "858/858 [==============================] - 1s 1ms/step - loss: 0.4146 - accuracy: 0.8004\n",
            "Epoch 49/100\n",
            "858/858 [==============================] - 1s 1ms/step - loss: 0.4139 - accuracy: 0.7996\n",
            "Epoch 50/100\n",
            "858/858 [==============================] - 1s 1ms/step - loss: 0.4142 - accuracy: 0.7997\n",
            "Epoch 51/100\n",
            "858/858 [==============================] - 1s 982us/step - loss: 0.4138 - accuracy: 0.7993\n",
            "Epoch 52/100\n",
            "858/858 [==============================] - 1s 1ms/step - loss: 0.4135 - accuracy: 0.8000\n",
            "Epoch 53/100\n",
            "858/858 [==============================] - 1s 1ms/step - loss: 0.4136 - accuracy: 0.8000\n",
            "Epoch 54/100\n",
            "858/858 [==============================] - 1s 1ms/step - loss: 0.4133 - accuracy: 0.8000\n",
            "Epoch 55/100\n",
            "858/858 [==============================] - 1s 1ms/step - loss: 0.4135 - accuracy: 0.7993\n",
            "Epoch 56/100\n",
            "858/858 [==============================] - 1s 1ms/step - loss: 0.4135 - accuracy: 0.8001\n",
            "Epoch 57/100\n",
            "858/858 [==============================] - 1s 1ms/step - loss: 0.4129 - accuracy: 0.8001\n",
            "Epoch 58/100\n",
            "858/858 [==============================] - 1s 1ms/step - loss: 0.4132 - accuracy: 0.8001\n",
            "Epoch 59/100\n",
            "858/858 [==============================] - 1s 1ms/step - loss: 0.4132 - accuracy: 0.8005\n",
            "Epoch 60/100\n",
            "858/858 [==============================] - 1s 1ms/step - loss: 0.4132 - accuracy: 0.8001\n",
            "Epoch 61/100\n",
            "858/858 [==============================] - 1s 1ms/step - loss: 0.4127 - accuracy: 0.8005\n",
            "Epoch 62/100\n",
            "858/858 [==============================] - 1s 1ms/step - loss: 0.4127 - accuracy: 0.8001\n",
            "Epoch 63/100\n",
            "858/858 [==============================] - 1s 1ms/step - loss: 0.4133 - accuracy: 0.7994\n",
            "Epoch 64/100\n",
            "858/858 [==============================] - 1s 989us/step - loss: 0.4131 - accuracy: 0.8000\n",
            "Epoch 65/100\n",
            "858/858 [==============================] - 1s 1ms/step - loss: 0.4129 - accuracy: 0.8002\n",
            "Epoch 66/100\n",
            "858/858 [==============================] - 1s 1ms/step - loss: 0.4123 - accuracy: 0.8001\n",
            "Epoch 67/100\n",
            "858/858 [==============================] - 1s 1ms/step - loss: 0.4122 - accuracy: 0.8002\n",
            "Epoch 68/100\n",
            "858/858 [==============================] - 1s 1ms/step - loss: 0.4123 - accuracy: 0.8001\n",
            "Epoch 69/100\n",
            "858/858 [==============================] - 1s 1ms/step - loss: 0.4125 - accuracy: 0.7997\n",
            "Epoch 70/100\n",
            "858/858 [==============================] - 1s 1ms/step - loss: 0.4122 - accuracy: 0.8005\n",
            "Epoch 71/100\n",
            "858/858 [==============================] - 1s 996us/step - loss: 0.4125 - accuracy: 0.8002\n",
            "Epoch 72/100\n",
            "858/858 [==============================] - 1s 1ms/step - loss: 0.4122 - accuracy: 0.8002\n",
            "Epoch 73/100\n",
            "858/858 [==============================] - 1s 1ms/step - loss: 0.4121 - accuracy: 0.8006\n",
            "Epoch 74/100\n",
            "858/858 [==============================] - 1s 1ms/step - loss: 0.4119 - accuracy: 0.8001\n",
            "Epoch 75/100\n",
            "858/858 [==============================] - 1s 1ms/step - loss: 0.4120 - accuracy: 0.7996\n",
            "Epoch 76/100\n",
            "858/858 [==============================] - 1s 1ms/step - loss: 0.4120 - accuracy: 0.8008\n",
            "Epoch 77/100\n",
            "858/858 [==============================] - 1s 1ms/step - loss: 0.4119 - accuracy: 0.8000\n",
            "Epoch 78/100\n",
            "858/858 [==============================] - 1s 1ms/step - loss: 0.4116 - accuracy: 0.8013\n",
            "Epoch 79/100\n",
            "858/858 [==============================] - 1s 1ms/step - loss: 0.4115 - accuracy: 0.8006\n",
            "Epoch 80/100\n",
            "858/858 [==============================] - 1s 997us/step - loss: 0.4108 - accuracy: 0.8012\n",
            "Epoch 81/100\n",
            "858/858 [==============================] - 1s 1ms/step - loss: 0.4109 - accuracy: 0.8006\n",
            "Epoch 82/100\n",
            "858/858 [==============================] - 1s 1ms/step - loss: 0.4110 - accuracy: 0.8018\n",
            "Epoch 83/100\n",
            "858/858 [==============================] - 1s 1ms/step - loss: 0.4103 - accuracy: 0.8038\n",
            "Epoch 84/100\n",
            "858/858 [==============================] - 1s 1ms/step - loss: 0.4093 - accuracy: 0.8045\n",
            "Epoch 85/100\n",
            "858/858 [==============================] - 1s 1ms/step - loss: 0.4088 - accuracy: 0.8043\n",
            "Epoch 86/100\n",
            "858/858 [==============================] - 1s 1ms/step - loss: 0.4090 - accuracy: 0.8037\n",
            "Epoch 87/100\n",
            "858/858 [==============================] - 1s 1ms/step - loss: 0.4087 - accuracy: 0.8044\n",
            "Epoch 88/100\n",
            "858/858 [==============================] - 1s 1ms/step - loss: 0.4084 - accuracy: 0.8045\n",
            "Epoch 89/100\n",
            "858/858 [==============================] - 1s 1ms/step - loss: 0.4085 - accuracy: 0.8041\n",
            "Epoch 90/100\n",
            "858/858 [==============================] - 1s 1ms/step - loss: 0.4082 - accuracy: 0.8039\n",
            "Epoch 91/100\n",
            "858/858 [==============================] - 1s 1ms/step - loss: 0.4082 - accuracy: 0.8047\n",
            "Epoch 92/100\n",
            "858/858 [==============================] - 1s 1ms/step - loss: 0.4083 - accuracy: 0.8048\n",
            "Epoch 93/100\n",
            "858/858 [==============================] - 1s 1ms/step - loss: 0.4082 - accuracy: 0.8046\n",
            "Epoch 94/100\n",
            "858/858 [==============================] - 1s 1ms/step - loss: 0.4081 - accuracy: 0.8048\n",
            "Epoch 95/100\n",
            "858/858 [==============================] - 1s 999us/step - loss: 0.4081 - accuracy: 0.8055\n",
            "Epoch 96/100\n",
            "858/858 [==============================] - 1s 1ms/step - loss: 0.4082 - accuracy: 0.8057\n",
            "Epoch 97/100\n",
            "858/858 [==============================] - 1s 1ms/step - loss: 0.4079 - accuracy: 0.8041\n",
            "Epoch 98/100\n",
            "858/858 [==============================] - 1s 1ms/step - loss: 0.4080 - accuracy: 0.8048\n",
            "Epoch 99/100\n",
            "858/858 [==============================] - 1s 1ms/step - loss: 0.4083 - accuracy: 0.8052\n",
            "Epoch 100/100\n",
            "858/858 [==============================] - 1s 997us/step - loss: 0.4079 - accuracy: 0.8051\n"
          ]
        }
      ],
      "source": [
        "fit_model = nn.fit(X_train_scaled, y_train, epochs=100)"
      ]
    },
    {
      "cell_type": "code",
      "execution_count": 15,
      "metadata": {},
      "outputs": [
        {
          "name": "stdout",
          "output_type": "stream",
          "text": [
            "215/215 - 0s - loss: 0.4604 - accuracy: 0.7834 - 459ms/epoch - 2ms/step\n",
            "Loss: 0.46039384603500366, Accuracy: 0.7833819389343262\n"
          ]
        }
      ],
      "source": [
        "model_loss, model_accuracy = nn.evaluate(X_test_scaled,y_test,verbose=2)\n",
        "print(f\"Loss: {model_loss}, Accuracy: {model_accuracy}\")"
      ]
    },
    {
      "cell_type": "code",
      "execution_count": 16,
      "metadata": {},
      "outputs": [
        {
          "name": "stderr",
          "output_type": "stream",
          "text": [
            "/Users/fizatariq/anaconda3/envs/dev3/lib/python3.10/site-packages/keras/src/engine/training.py:3079: UserWarning: You are saving your model as an HDF5 file via `model.save()`. This file format is considered legacy. We recommend using instead the native Keras format, e.g. `model.save('my_model.keras')`.\n",
            "  saving_api.save_model(\n"
          ]
        }
      ],
      "source": [
        "nn.save(\"AlphabetSoupCharity_Optimization.h5\")"
      ]
    }
  ],
  "metadata": {
    "colab": {
      "provenance": []
    },
    "kernelspec": {
      "display_name": "Python 3",
      "name": "python3"
    },
    "language_info": {
      "codemirror_mode": {
        "name": "ipython",
        "version": 3
      },
      "file_extension": ".py",
      "mimetype": "text/x-python",
      "name": "python",
      "nbconvert_exporter": "python",
      "pygments_lexer": "ipython3",
      "version": "3.10.12"
    }
  },
  "nbformat": 4,
  "nbformat_minor": 0
}
